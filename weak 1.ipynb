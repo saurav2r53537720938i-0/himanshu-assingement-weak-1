{
 "cells": [
  {
   "cell_type": "code",
   "execution_count": 1,
   "id": "883c7841-2f47-4cc6-8a71-b188154e073e",
   "metadata": {},
   "outputs": [],
   "source": [
    "H=\"himanshu\""
   ]
  },
  {
   "cell_type": "code",
   "execution_count": 3,
   "id": "2095bca2-b345-4c6e-ba8d-f0bb2ee7ffa5",
   "metadata": {},
   "outputs": [
    {
     "data": {
      "text/plain": [
       "str"
      ]
     },
     "execution_count": 3,
     "metadata": {},
     "output_type": "execute_result"
    }
   ],
   "source": [
    "type(H)"
   ]
  },
  {
   "cell_type": "code",
   "execution_count": 6,
   "id": "61da4f7e-3a41-4e0e-8b9b-66db1020a55b",
   "metadata": {},
   "outputs": [],
   "source": [
    "l =[2,3,4,5,6,\"himanshu\",4+5j,True,45.67]"
   ]
  },
  {
   "cell_type": "code",
   "execution_count": 7,
   "id": "2dbcdc72-e740-42a0-85dd-95b4749a3246",
   "metadata": {},
   "outputs": [
    {
     "data": {
      "text/plain": [
       "list"
      ]
     },
     "execution_count": 7,
     "metadata": {},
     "output_type": "execute_result"
    }
   ],
   "source": [
    "type(l)"
   ]
  },
  {
   "cell_type": "code",
   "execution_count": 10,
   "id": "abc7ec86-0e3c-461e-abb3-77b47f3f5abc",
   "metadata": {},
   "outputs": [],
   "source": [
    "a = 46.58"
   ]
  },
  {
   "cell_type": "code",
   "execution_count": 11,
   "id": "290ab43a-0f5a-4eed-9bd5-32c578ee37ea",
   "metadata": {},
   "outputs": [
    {
     "data": {
      "text/plain": [
       "float"
      ]
     },
     "execution_count": 11,
     "metadata": {},
     "output_type": "execute_result"
    }
   ],
   "source": [
    "type(a)"
   ]
  },
  {
   "cell_type": "code",
   "execution_count": 12,
   "id": "b41d372e-5473-4264-a3b5-1a0305f618f2",
   "metadata": {},
   "outputs": [],
   "source": [
    "t = (2,3,4,5,6,\"himanshu\",5+6j,True,98.87)"
   ]
  },
  {
   "cell_type": "code",
   "execution_count": 18,
   "id": "cf0c2520-22bd-4dc2-82b4-1f379aceeba2",
   "metadata": {},
   "outputs": [
    {
     "data": {
      "text/plain": [
       "tuple"
      ]
     },
     "execution_count": 18,
     "metadata": {},
     "output_type": "execute_result"
    }
   ],
   "source": [
    "type(t)"
   ]
  },
  {
   "cell_type": "code",
   "execution_count": 19,
   "id": "84afabdc-6fa2-4786-918f-9b3d67eb2816",
   "metadata": {},
   "outputs": [],
   "source": [
    "var1 =\"himanshu\""
   ]
  },
  {
   "cell_type": "code",
   "execution_count": 20,
   "id": "dc318cf7-7fe2-4907-9988-06c8efc66d8c",
   "metadata": {},
   "outputs": [
    {
     "data": {
      "text/plain": [
       "str"
      ]
     },
     "execution_count": 20,
     "metadata": {},
     "output_type": "execute_result"
    }
   ],
   "source": [
    "type(var1)"
   ]
  },
  {
   "cell_type": "code",
   "execution_count": 21,
   "id": "da8d65a6-ce81-4103-99ef-5134a9bcac89",
   "metadata": {},
   "outputs": [],
   "source": [
    "var2 =['aman' 'chirau' 'himanshu']"
   ]
  },
  {
   "cell_type": "code",
   "execution_count": 22,
   "id": "77c4a353-4d4e-40f9-a9a4-80a243154255",
   "metadata": {},
   "outputs": [
    {
     "data": {
      "text/plain": [
       "list"
      ]
     },
     "execution_count": 22,
     "metadata": {},
     "output_type": "execute_result"
    }
   ],
   "source": [
    "type(var2)"
   ]
  },
  {
   "cell_type": "code",
   "execution_count": 23,
   "id": "4e0e1430-9413-4290-b70f-1943f28dc6b7",
   "metadata": {},
   "outputs": [],
   "source": [
    "var3= ['abhissek' 'rahul' 'rohan']"
   ]
  },
  {
   "cell_type": "code",
   "execution_count": 24,
   "id": "db0b328b-8944-4c18-8b94-8b3732c5f894",
   "metadata": {},
   "outputs": [
    {
     "data": {
      "text/plain": [
       "list"
      ]
     },
     "execution_count": 24,
     "metadata": {},
     "output_type": "execute_result"
    }
   ],
   "source": [
    "type(var3)"
   ]
  },
  {
   "cell_type": "code",
   "execution_count": 25,
   "id": "03b80fcd-28bb-4544-8e29-6ce33dd4f92e",
   "metadata": {},
   "outputs": [],
   "source": [
    "var4= 1"
   ]
  },
  {
   "cell_type": "code",
   "execution_count": 26,
   "id": "01a059b2-6580-41f0-b61e-3b135b26cbe3",
   "metadata": {},
   "outputs": [
    {
     "data": {
      "text/plain": [
       "int"
      ]
     },
     "execution_count": 26,
     "metadata": {},
     "output_type": "execute_result"
    }
   ],
   "source": [
    "type(var4)"
   ]
  },
  {
   "cell_type": "code",
   "execution_count": 27,
   "id": "0be11227-9b8d-47c0-97e6-132c24c45bab",
   "metadata": {},
   "outputs": [
    {
     "data": {
      "text/plain": [
       "2.0"
      ]
     },
     "execution_count": 27,
     "metadata": {},
     "output_type": "execute_result"
    }
   ],
   "source": [
    "8/4"
   ]
  },
  {
   "cell_type": "code",
   "execution_count": 28,
   "id": "0128f26d-49ca-45e9-a4e8-671d21016f5a",
   "metadata": {},
   "outputs": [
    {
     "data": {
      "text/plain": [
       "1"
      ]
     },
     "execution_count": 28,
     "metadata": {},
     "output_type": "execute_result"
    }
   ],
   "source": [
    "1%4"
   ]
  },
  {
   "cell_type": "code",
   "execution_count": 29,
   "id": "11e5861d-817e-483d-ae0b-c8a3f8e6e586",
   "metadata": {},
   "outputs": [
    {
     "data": {
      "text/plain": [
       "1"
      ]
     },
     "execution_count": 29,
     "metadata": {},
     "output_type": "execute_result"
    }
   ],
   "source": [
    "5//4"
   ]
  },
  {
   "cell_type": "code",
   "execution_count": 30,
   "id": "a960c3d6-1f54-47c1-8a8a-3b76f91bfd38",
   "metadata": {},
   "outputs": [
    {
     "data": {
      "text/plain": [
       "8"
      ]
     },
     "execution_count": 30,
     "metadata": {},
     "output_type": "execute_result"
    }
   ],
   "source": [
    "2**3"
   ]
  },
  {
   "cell_type": "code",
   "execution_count": 32,
   "id": "29731f97-ad57-4211-a0fa-ead9abdf72ae",
   "metadata": {},
   "outputs": [
    {
     "name": "stdout",
     "output_type": "stream",
     "text": [
      "h\n",
      "i\n",
      "m\n",
      "a\n",
      "n\n",
      "s\n",
      "h\n",
      "u\n"
     ]
    }
   ],
   "source": [
    "s=\"himanshu\"\n",
    "for i in s:\n",
    "    print(i)"
   ]
  },
  {
   "cell_type": "code",
   "execution_count": 36,
   "id": "835bf8e3-34e1-4b70-ab32-066d1f86e230",
   "metadata": {},
   "outputs": [
    {
     "name": "stdout",
     "output_type": "stream",
     "text": [
      "<class 'int'>\n",
      "<class 'int'>\n",
      "<class 'int'>\n",
      "<class 'int'>\n",
      "<class 'int'>\n",
      "<class 'str'>\n",
      "<class 'str'>\n",
      "<class 'float'>\n",
      "<class 'bool'>\n"
     ]
    }
   ],
   "source": [
    "l=[2,3,4,5,6,\"himanshu\",\"pwskills\",23.45,True]\n",
    "for i in l:\n",
    "    print(type(i))"
   ]
  },
  {
   "cell_type": "code",
   "execution_count": 49,
   "id": "b30374f4-fa65-4419-81bf-314430e886f8",
   "metadata": {},
   "outputs": [
    {
     "name": "stdout",
     "output_type": "stream",
     "text": [
      "1\n",
      "2\n",
      "3\n"
     ]
    }
   ],
   "source": [
    "n = 4\n",
    "i = 1\n",
    "while n>i :\n",
    "    print(i)\n",
    "    i = i+1"
   ]
  },
  {
   "cell_type": "code",
   "execution_count": 50,
   "id": "219f216e-da37-4e72-b0cb-3385e9ab5875",
   "metadata": {},
   "outputs": [
    {
     "name": "stdout",
     "output_type": "stream",
     "text": [
      "1\n",
      "2\n",
      "3\n"
     ]
    }
   ],
   "source": [
    "n =  4\n",
    "i =1\n",
    "while i < n :\n",
    "    print(i)\n",
    "    i = i+1\n",
    "\n"
   ]
  },
  {
   "cell_type": "code",
   "execution_count": 51,
   "id": "f42fc2e4-02e1-4d88-8904-1722f0ebce06",
   "metadata": {},
   "outputs": [],
   "source": [
    "l =[2,3,4,5,6,\"himanshu\",6+3j,True,45.67]"
   ]
  },
  {
   "cell_type": "code",
   "execution_count": 53,
   "id": "42d006c6-5eec-42ac-a5f4-b6717a09dacb",
   "metadata": {},
   "outputs": [],
   "source": [
    "l[2] =500"
   ]
  },
  {
   "cell_type": "code",
   "execution_count": 54,
   "id": "54c26325-7bf1-45e6-8411-f780be6deceb",
   "metadata": {},
   "outputs": [
    {
     "data": {
      "text/plain": [
       "[2, 3, 500, 5, 6, 'himanshu', (6+3j), True, 45.67]"
      ]
     },
     "execution_count": 54,
     "metadata": {},
     "output_type": "execute_result"
    }
   ],
   "source": [
    "l"
   ]
  },
  {
   "cell_type": "code",
   "execution_count": 55,
   "id": "acb17ad7-d489-4f33-a8db-d37ee8df5d51",
   "metadata": {},
   "outputs": [],
   "source": [
    "h = \"himanshu\""
   ]
  },
  {
   "cell_type": "code",
   "execution_count": 59,
   "id": "ba77522f-c55c-42d0-9032-55a2afcf0b86",
   "metadata": {},
   "outputs": [
    {
     "ename": "TypeError",
     "evalue": "'str' object does not support item assignment",
     "output_type": "error",
     "traceback": [
      "\u001b[0;31m---------------------------------------------------------------------------\u001b[0m",
      "\u001b[0;31mTypeError\u001b[0m                                 Traceback (most recent call last)",
      "Cell \u001b[0;32mIn[59], line 1\u001b[0m\n\u001b[0;32m----> 1\u001b[0m \u001b[43mh\u001b[49m\u001b[43m[\u001b[49m\u001b[43ml\u001b[49m\u001b[43m]\u001b[49m\u001b[38;5;241m=\u001b[39m\u001b[38;5;124m'\u001b[39m\u001b[38;5;124ma\u001b[39m\u001b[38;5;124m'\u001b[39m\n",
      "\u001b[0;31mTypeError\u001b[0m: 'str' object does not support item assignment"
     ]
    }
   ],
   "source": [
    "h[l]='a'"
   ]
  },
  {
   "cell_type": "code",
   "execution_count": null,
   "id": "d21abfa1-bf9d-492b-b65d-1d80497b6b69",
   "metadata": {},
   "outputs": [],
   "source": [
    "lists support mutab"
   ]
  }
 ],
 "metadata": {
  "kernelspec": {
   "display_name": "Python 3 (ipykernel)",
   "language": "python",
   "name": "python3"
  },
  "language_info": {
   "codemirror_mode": {
    "name": "ipython",
    "version": 3
   },
   "file_extension": ".py",
   "mimetype": "text/x-python",
   "name": "python",
   "nbconvert_exporter": "python",
   "pygments_lexer": "ipython3",
   "version": "3.10.8"
  }
 },
 "nbformat": 4,
 "nbformat_minor": 5
}
